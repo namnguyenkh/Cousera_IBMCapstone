{
 "cells": [
  {
   "cell_type": "markdown",
   "metadata": {},
   "source": [
    "# Applied Data Science Capstone Project Report"
   ]
  },
  {
   "cell_type": "markdown",
   "metadata": {},
   "source": [
    "**Introduction/Business Problem**"
   ]
  },
  {
   "cell_type": "markdown",
   "metadata": {},
   "source": [
    "In this project, we will explore the central area of Singapore and suggest best regions to people who is looking to open a Thai restaurant in central Singapore. The Foursquare location data will be used to explore neighbourhoods in Singapore and find out insights such as which neighbourhoods are popular for Thai. \n",
    "\n",
    "The assumption here in this project is that the stakeholders are interested to open a Thai restaurant in neighbourhoods which are already famous/popular for Thai food."
   ]
  },
  {
   "cell_type": "markdown",
   "metadata": {},
   "source": [
    "**Data**"
   ]
  },
  {
   "cell_type": "markdown",
   "metadata": {},
   "source": [
    "First, we need a list of neighbourhoods in Singapore before querying. I will use the list of neighbourhoods available on wiki page and filter out the central neighbourhoods:\n",
    "https://en.wikipedia.org/wiki/Planning_Areas_of_Singapore\n",
    "\n",
    "An example of the data will contains columns\n",
    "\n",
    "| Name  | Region | Population | Area |\n",
    "| ------------- | ------------- | ------------- | ----|\n",
    "| Bishan  | Central  | 90,700 | 7.2 |\n",
    "\n",
    "Next, with the list of regions, I will get the latitudes and longitudes of the neighbourhoods with geocoder (or other services if geocoder service is not available). \n",
    "\n",
    "With the latitudes and longitudes of the neighbourhoods, I can then query Foursquare to explore the popularity of Thai food in the neighbourhood. The rank of thai restaurant among all pupular venues near each neighbourhood will be gathered and compared. The number of thai restaurants in the neighbourhood will also be queried to provide more insights."
   ]
  }
 ],
 "metadata": {
  "kernelspec": {
   "display_name": "Python 3",
   "language": "python",
   "name": "python3"
  },
  "language_info": {
   "codemirror_mode": {
    "name": "ipython",
    "version": 3
   },
   "file_extension": ".py",
   "mimetype": "text/x-python",
   "name": "python",
   "nbconvert_exporter": "python",
   "pygments_lexer": "ipython3",
   "version": "3.6.6"
  }
 },
 "nbformat": 4,
 "nbformat_minor": 2
}
