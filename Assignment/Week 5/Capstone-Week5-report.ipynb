{
 "cells": [
  {
   "cell_type": "markdown",
   "metadata": {},
   "source": [
    "# Applied Data Science Capstone Project Report"
   ]
  },
  {
   "cell_type": "markdown",
   "metadata": {},
   "source": [
    "**Introduction/Business Problem**"
   ]
  },
  {
   "cell_type": "markdown",
   "metadata": {},
   "source": [
    "In this project, we will explore the eastern area of Singapore and cluster the neighbourhoods using k-means clustering. The Foursquare location data will be used to explore neighbourhoods in Singapore and find out which neighbourhoods in the east of Singapore have more similarity. \n",
    "\n",
    "The target audience of the project is people who are interested in moving or exploring a neighbourhood similar to another, or people who are interested in doing business or city planning in a certain neighbourhood."
   ]
  },
  {
   "cell_type": "markdown",
   "metadata": {},
   "source": [
    "**Data**"
   ]
  },
  {
   "cell_type": "markdown",
   "metadata": {},
   "source": [
    "First, we need a list of neighbourhoods in Singapore before querying. I will use the list of neighbourhoods available on wiki page and filter out the Eastern neighbourhoods:\n",
    "https://en.wikipedia.org/wiki/Planning_Areas_of_Singapore\n",
    "\n",
    "An example of the data will contains columns\n",
    "\n",
    "| Name  | Region | Population | Area |\n",
    "| ------------- | ------------- | ------------- | ----|\n",
    "| Changi  | East  | 2,530 | 62.3 |\n",
    "\n",
    "Next, with the list of regions, I will get the latitudes and longitudes of the neighbourhoods with geocoder (or other services if geocoder service is not available). \n",
    "\n",
    "With the latitudes and longitudes of the neighbourhoods, I can then query Foursquare to explore the popularity of venues in the neighbourhood. The rank of pupular venues near each neighbourhood will be gathered and made into one hot encoding before applying k-means clustering."
   ]
  },
  {
   "cell_type": "markdown",
   "metadata": {},
   "source": [
    "**Methodology**"
   ]
  },
  {
   "cell_type": "markdown",
   "metadata": {},
   "source": [
    "Data of neighbourhoods in Singapore was scraped from wiki page using read_html function from pandas library.\n",
    "\n",
    "Then the data was preprocessed by removing redundant fields as well as filtering out other regions except for the east region.\n",
    "\n",
    "While getting the latitudes and longtitudes of the neighbourhoods, the data was collected via Google Map instead of querying the geocoder via code because the geocoder was not available and could not return any results. So the data was gathered by checking on Google Map manually since there are only 6 neighbourhoods.\n",
    "\n",
    "Then we looped through each neighbourhood and query the Foursquare to get popular venues nearby. The venues were then turned into one-hot encoding and normalized to be clustered by k-means.\n",
    "\n",
    "With k-means clustering, the neighbourhoods were clustered into 3 clusters and finally the clustering was displayed on the folium map."
   ]
  },
  {
   "cell_type": "markdown",
   "metadata": {},
   "source": [
    "**Results**"
   ]
  },
  {
   "cell_type": "markdown",
   "metadata": {},
   "source": [
    "The 6 neighbourhoods were clustered into 3 clusters:"
   ]
  },
  {
   "cell_type": "markdown",
   "metadata": {},
   "source": [
    "<img src=\"cluster-result.png\">"
   ]
  },
  {
   "cell_type": "markdown",
   "metadata": {},
   "source": [
    "<img src=\"map.png\">"
   ]
  },
  {
   "cell_type": "markdown",
   "metadata": {},
   "source": [
    "**Discussion**"
   ]
  },
  {
   "cell_type": "markdown",
   "metadata": {},
   "source": [
    "The result with the clustering quite makes sense to local people staying in Singapore because among the 6 neighbourhoods, the 4 neighbourhoods in the same cluster are more similar to each other because they are residential areas. The other 2 neighbourhoods, Changi Bay and Paya Lebar are clustered in 2 groups on its own because these two areas have some special usage. Changi Bay has ferry station and Paya Lebar has military base. So they are clustered into seperate groups by their own. \n",
    "\n",
    "This result is useful for people who are considering which area to live in. If they liked to live in Bedok, then it is more likely they will like Pasir Ris more than Changi Bay."
   ]
  },
  {
   "cell_type": "markdown",
   "metadata": {},
   "source": [
    "**Conclusion**"
   ]
  },
  {
   "cell_type": "markdown",
   "metadata": {},
   "source": [
    "The 6 neighbourhoods in the east of Singapore are clustered into 3 groups based on popular venues in the neighbourhoods. The clustering reflects the similarities between neighbourhoods and the result can be useful to people in different ways."
   ]
  },
  {
   "cell_type": "code",
   "execution_count": null,
   "metadata": {},
   "outputs": [],
   "source": []
  }
 ],
 "metadata": {
  "kernelspec": {
   "display_name": "Python 3",
   "language": "python",
   "name": "python3"
  },
  "language_info": {
   "codemirror_mode": {
    "name": "ipython",
    "version": 3
   },
   "file_extension": ".py",
   "mimetype": "text/x-python",
   "name": "python",
   "nbconvert_exporter": "python",
   "pygments_lexer": "ipython3",
   "version": "3.6.6"
  }
 },
 "nbformat": 4,
 "nbformat_minor": 2
}
